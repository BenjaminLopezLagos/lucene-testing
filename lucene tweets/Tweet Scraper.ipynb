{
 "cells": [
  {
   "cell_type": "code",
   "execution_count": 9,
   "id": "895a7026-7385-48ca-8dc6-529039fdf22b",
   "metadata": {},
   "outputs": [],
   "source": [
    "import pandas as pd\n",
    "from tqdm.notebook import tqdm\n",
    "import snscrape.modules.twitter as sntwitter"
   ]
  },
  {
   "cell_type": "code",
   "execution_count": 10,
   "id": "6affb284-c2c7-4a3a-b36d-9aa060d09026",
   "metadata": {},
   "outputs": [],
   "source": [
    "scraper = sntwitter.TwitterSearchScraper(\"#Chile\")"
   ]
  },
  {
   "cell_type": "code",
   "execution_count": 11,
   "id": "38935c15-df1e-4edf-bb1a-5baefd3f8790",
   "metadata": {},
   "outputs": [],
   "source": [
    "for tweet in scraper.get_items():\n",
    "    break"
   ]
  },
  {
   "cell_type": "code",
   "execution_count": 12,
   "id": "354ebb23-e55c-4115-b55e-91003bac20b3",
   "metadata": {},
   "outputs": [
    {
     "data": {
      "text/plain": [
       "Tweet(url='https://twitter.com/MiOpinion360/status/1643091122317672453', date=datetime.datetime(2023, 4, 4, 3, 20, 25, tzinfo=datetime.timezone.utc), rawContent='Quién lo ayuda? Quién se suma a darle la oportunidad a un ser maravilloso, a cambiarle la vida, porque lo merece? #Concón #Viña #VinadelMar #Valparaiso #GatilloFacil #Mega #Iphone #Providencia #Iquique #MónicaRincón #Chile #EsHora #ResptoALaVida', renderedContent='Quién lo ayuda? Quién se suma a darle la oportunidad a un ser maravilloso, a cambiarle la vida, porque lo merece? #Concón #Viña #VinadelMar #Valparaiso #GatilloFacil #Mega #Iphone #Providencia #Iquique #MónicaRincón #Chile #EsHora #ResptoALaVida', id=1643091122317672453, user=User(username='MiOpinion360', id=1102387087289057282, displayname='#HablemosDeLoMalo', rawDescription='Si no ayudas,respetas ni exiges  por los animales,no sigas pidiendo un mejor país, ni calidad de vida,NO PASARÁ! En este siglo tanta ignorancia es imperdonable!', renderedDescription='Si no ayudas,respetas ni exiges  por los animales,no sigas pidiendo un mejor país, ni calidad de vida,NO PASARÁ! En este siglo tanta ignorancia es imperdonable!', descriptionLinks=None, verified=False, created=datetime.datetime(2019, 3, 4, 1, 55, 37, tzinfo=datetime.timezone.utc), followersCount=80, friendsCount=106, statusesCount=7620, favouritesCount=3490, listedCount=0, mediaCount=759, location='Metropolitana de Santiago', protected=False, link=None, profileImageUrl='https://pbs.twimg.com/profile_images/1124692836996341761/TioIKiQ3_normal.png', profileBannerUrl='https://pbs.twimg.com/profile_banners/1102387087289057282/1551665594', label=None), replyCount=0, retweetCount=0, likeCount=0, quoteCount=0, conversationId=1643091122317672453, lang='es', source='<a href=\"http://twitter.com/download/iphone\" rel=\"nofollow\">Twitter for iPhone</a>', sourceUrl='http://twitter.com/download/iphone', sourceLabel='Twitter for iPhone', links=None, media=None, retweetedTweet=None, quotedTweet=Tweet(url='https://twitter.com/iiibvale/status/1643054493532143616', date=datetime.datetime(2023, 4, 4, 0, 54, 52, tzinfo=datetime.timezone.utc), rawContent='TWITTER haz tu magia xfavor😞✨. Perrito viejito en los huesos, sufriendo, necesite URGENTE hogar temporal en Concón, V región. Hay una persona que costeará su tratamiento y alimentación. Celu +56982305499 💜🙏🏻 @denissemalebran @canelapali @carolinapinoc @SnoopyRossental https://t.co/i0m8jf8AU6', renderedContent='TWITTER haz tu magia xfavor😞✨. Perrito viejito en los huesos, sufriendo, necesite URGENTE hogar temporal en Concón, V región. Hay una persona que costeará su tratamiento y alimentación. Celu +56982305499 💜🙏🏻 @denissemalebran @canelapali @carolinapinoc @SnoopyRossental https://t.co/i0m8jf8AU6', id=1643054493532143616, user=User(username='iiibvale', id=526593526, displayname='✨', rawDescription='En resumen: perritos❤️. “Hasta que no hayas amado a un animal, una parte de tu alma permanecerá dormida”.', renderedDescription='En resumen: perritos❤️. “Hasta que no hayas amado a un animal, una parte de tu alma permanecerá dormida”.', descriptionLinks=None, verified=False, created=datetime.datetime(2012, 3, 16, 17, 5, 6, tzinfo=datetime.timezone.utc), followersCount=1412, friendsCount=853, statusesCount=15995, favouritesCount=4867, listedCount=5, mediaCount=1592, location='Chile', protected=False, link=None, profileImageUrl='https://pbs.twimg.com/profile_images/1569455265094803456/ATYoPdvt_normal.jpg', profileBannerUrl='https://pbs.twimg.com/profile_banners/526593526/1656465024', label=None), replyCount=1, retweetCount=129, likeCount=32, quoteCount=3, conversationId=1643054493532143616, lang='es', source='<a href=\"http://twitter.com/download/iphone\" rel=\"nofollow\">Twitter for iPhone</a>', sourceUrl='http://twitter.com/download/iphone', sourceLabel='Twitter for iPhone', links=None, media=[Photo(previewUrl='https://pbs.twimg.com/media/Fs1NWG3XgAETX-S?format=jpg&name=small', fullUrl='https://pbs.twimg.com/media/Fs1NWG3XgAETX-S?format=jpg&name=orig', altText=None), Photo(previewUrl='https://pbs.twimg.com/media/Fs1NWG3WAAEJlBq?format=jpg&name=small', fullUrl='https://pbs.twimg.com/media/Fs1NWG3WAAEJlBq?format=jpg&name=orig', altText=None)], retweetedTweet=None, quotedTweet=None, inReplyToTweetId=None, inReplyToUser=None, mentionedUsers=[User(username='denissemalebran', id=138416769, displayname='Denisse Malebran', rawDescription=None, renderedDescription=None, descriptionLinks=None, verified=None, created=None, followersCount=None, friendsCount=None, statusesCount=None, favouritesCount=None, listedCount=None, mediaCount=None, location=None, protected=None, link=None, profileImageUrl=None, profileBannerUrl=None, label=None), User(username='canelapali', id=933314292, displayname='CaneLapali ✨', rawDescription=None, renderedDescription=None, descriptionLinks=None, verified=None, created=None, followersCount=None, friendsCount=None, statusesCount=None, favouritesCount=None, listedCount=None, mediaCount=None, location=None, protected=None, link=None, profileImageUrl=None, profileBannerUrl=None, label=None), User(username='carolinapinoc', id=92574042, displayname='Caro 🌲 C.', rawDescription=None, renderedDescription=None, descriptionLinks=None, verified=None, created=None, followersCount=None, friendsCount=None, statusesCount=None, favouritesCount=None, listedCount=None, mediaCount=None, location=None, protected=None, link=None, profileImageUrl=None, profileBannerUrl=None, label=None), User(username='SnoopyRossental', id=875127681834250242, displayname='José Carlos Snoopy 🦎🐎🐶🐱🐰🐷🐇', rawDescription=None, renderedDescription=None, descriptionLinks=None, verified=None, created=None, followersCount=None, friendsCount=None, statusesCount=None, favouritesCount=None, listedCount=None, mediaCount=None, location=None, protected=None, link=None, profileImageUrl=None, profileBannerUrl=None, label=None)], coordinates=None, place=None, hashtags=None, cashtags=None, card=None, viewCount=2228, vibe=None), inReplyToTweetId=None, inReplyToUser=None, mentionedUsers=None, coordinates=None, place=None, hashtags=['Concón', 'Viña', 'VinadelMar', 'Valparaiso', 'GatilloFacil', 'Mega', 'Iphone', 'Providencia', 'Iquique', 'MónicaRincón', 'Chile', 'EsHora', 'ResptoALaVida'], cashtags=None, card=None, viewCount=4, vibe=None)"
      ]
     },
     "execution_count": 12,
     "metadata": {},
     "output_type": "execute_result"
    }
   ],
   "source": [
    "tweet"
   ]
  },
  {
   "cell_type": "code",
   "execution_count": 13,
   "id": "c4a7b414-0339-46b9-93ae-bc6f133f913b",
   "metadata": {},
   "outputs": [
    {
     "data": {
      "application/vnd.jupyter.widget-view+json": {
       "model_id": "d673a5512b384402a03fff63b84f0566",
       "version_major": 2,
       "version_minor": 0
      },
      "text/plain": [
       "0it [00:00, ?it/s]"
      ]
     },
     "metadata": {},
     "output_type": "display_data"
    }
   ],
   "source": [
    "tweets = []\n",
    "filename = \"tweets.csv\"\n",
    "n_tweets = 10000\n",
    "for i, tweet in tqdm(enumerate(scraper.get_items())):\n",
    "    data = [\n",
    "        tweet.date,\n",
    "        tweet.id,\n",
    "        tweet.user.username,\n",
    "        tweet.rawContent,\n",
    "        tweet.likeCount,\n",
    "        tweet.retweetCount,\n",
    "        tweet.viewCount\n",
    "    ]\n",
    "    tweets.append(data)\n",
    "    if(i > n_tweets):\n",
    "        break\n",
    "        \n",
    "tweet_df = pd.DataFrame(tweets, columns = [\"date\", \"id\", \"username\", \"content\", \"likes\", \"rts\", \"views\"])\n",
    "tweet_df.to_csv(filename, index = False)"
   ]
  },
  {
   "cell_type": "code",
   "execution_count": 14,
   "id": "69fad25c-ccfe-4ae4-9cc3-a8685cdf0d1e",
   "metadata": {},
   "outputs": [
    {
     "name": "stdout",
     "output_type": "stream",
     "text": [
      "                            date                   id         username  \\\n",
      "0      2023-04-04 03:20:25+00:00  1643091122317672453     MiOpinion360   \n",
      "1      2023-04-04 03:20:12+00:00  1643091069750456320       mutante321   \n",
      "2      2023-04-04 03:19:13+00:00  1643090819069497347  losleorodriguez   \n",
      "3      2023-04-04 03:18:43+00:00  1643090694242963457        mabochile   \n",
      "4      2023-04-04 03:18:09+00:00  1643090552269819907          lado_mx   \n",
      "...                          ...                  ...              ...   \n",
      "9997   2023-03-28 03:09:07+00:00  1640551562790699008   MisMarcadores_   \n",
      "9998   2023-03-28 03:09:02+00:00  1640551543773491201        RolangaPy   \n",
      "9999   2023-03-28 03:08:09+00:00  1640551320196112384       Rudolph_M7   \n",
      "10000  2023-03-28 03:06:54+00:00  1640551005321297920  caminomundialok   \n",
      "10001  2023-03-28 03:06:53+00:00  1640551002322395137         ITALOCHU   \n",
      "\n",
      "                                                 content  likes  rts   views  \n",
      "0      Quién lo ayuda? Quién se suma a darle la oport...      0    0     4.0  \n",
      "1      @felipekast A #50AnosDelGolpe \\n\\n@felipekast ...      0    0     3.0  \n",
      "2      Lo único que tenían era la calle...y ahora la ...      0    0     2.0  \n",
      "3      @mmlagoscc El expresidente que lleva tu apelli...      0    0     2.0  \n",
      "4      #Chile: La Corte Interamericana sesionará en C...      0    0     1.0  \n",
      "...                                                  ...    ...  ...     ...  \n",
      "9997   #AmistososInternacionales ⚽️\\n#FechaFIFA \\n#Ch...      0    2    78.0  \n",
      "9998   ¡FRACASO DE BARROS SCHELOTTO Y VICTORIA DE BER...      9    2  2336.0  \n",
      "9999   Que comiencen las clasificatorias 😂🇨🇱 #alexis ...      0    0    93.0  \n",
      "10000  #Amistoso 🇨🇱🆚️🇵🇾\\n\\n🔚 FINAL DEL PARTIDO\\n\\nEn ...      8    1  1301.0  \n",
      "10001  Tulio estamos al aire! \\nhttps://t.co/k3ONj1hl...      0    0   151.0  \n",
      "\n",
      "[10002 rows x 7 columns]\n"
     ]
    }
   ],
   "source": [
    "df = pd.read_csv(\"tweets.csv\")\n",
    "print(df)"
   ]
  },
  {
   "cell_type": "code",
   "execution_count": null,
   "id": "b926ef5f-f05b-48d8-a353-44dcde97ba21",
   "metadata": {},
   "outputs": [],
   "source": []
  }
 ],
 "metadata": {
  "kernelspec": {
   "display_name": "Python 3 (ipykernel)",
   "language": "python",
   "name": "python3"
  },
  "language_info": {
   "codemirror_mode": {
    "name": "ipython",
    "version": 3
   },
   "file_extension": ".py",
   "mimetype": "text/x-python",
   "name": "python",
   "nbconvert_exporter": "python",
   "pygments_lexer": "ipython3",
   "version": "3.10.9"
  }
 },
 "nbformat": 4,
 "nbformat_minor": 5
}
